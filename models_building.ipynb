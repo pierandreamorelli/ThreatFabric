{
 "cells": [
  {
   "cell_type": "code",
   "execution_count": 1,
   "metadata": {},
   "outputs": [],
   "source": [
    "import pandas as pd\n",
    "import numpy as np\n",
    "from sklearn.model_selection import train_test_split\n",
    "from sklearn.svm import SVC\n",
    "from sklearn.ensemble import RandomForestClassifier\n",
    "from xgboost import XGBClassifier\n",
    "from sklearn.metrics import accuracy_score"
   ]
  },
  {
   "cell_type": "code",
   "execution_count": 2,
   "metadata": {},
   "outputs": [],
   "source": [
    "df = pd.read_csv('data/Train_keystroke.csv')"
   ]
  },
  {
   "cell_type": "code",
   "execution_count": 3,
   "metadata": {},
   "outputs": [
    {
     "data": {
      "text/html": [
       "<div>\n",
       "<style scoped>\n",
       "    .dataframe tbody tr th:only-of-type {\n",
       "        vertical-align: middle;\n",
       "    }\n",
       "\n",
       "    .dataframe tbody tr th {\n",
       "        vertical-align: top;\n",
       "    }\n",
       "\n",
       "    .dataframe thead th {\n",
       "        text-align: right;\n",
       "    }\n",
       "</style>\n",
       "<table border=\"1\" class=\"dataframe\">\n",
       "  <thead>\n",
       "    <tr style=\"text-align: right;\">\n",
       "      <th></th>\n",
       "      <th>user</th>\n",
       "      <th>press-0</th>\n",
       "      <th>release-0</th>\n",
       "      <th>press-1</th>\n",
       "      <th>release-1</th>\n",
       "      <th>press-2</th>\n",
       "      <th>release-2</th>\n",
       "      <th>press-3</th>\n",
       "      <th>release-3</th>\n",
       "      <th>press-4</th>\n",
       "      <th>...</th>\n",
       "      <th>press-8</th>\n",
       "      <th>release-8</th>\n",
       "      <th>press-9</th>\n",
       "      <th>release-9</th>\n",
       "      <th>press-10</th>\n",
       "      <th>release-10</th>\n",
       "      <th>press-11</th>\n",
       "      <th>release-11</th>\n",
       "      <th>press-12</th>\n",
       "      <th>release-12</th>\n",
       "    </tr>\n",
       "  </thead>\n",
       "  <tbody>\n",
       "    <tr>\n",
       "      <th>0</th>\n",
       "      <td>1</td>\n",
       "      <td>0</td>\n",
       "      <td>120</td>\n",
       "      <td>216</td>\n",
       "      <td>312</td>\n",
       "      <td>424</td>\n",
       "      <td>496</td>\n",
       "      <td>592</td>\n",
       "      <td>664</td>\n",
       "      <td>808</td>\n",
       "      <td>...</td>\n",
       "      <td>1712</td>\n",
       "      <td>1760</td>\n",
       "      <td>1992</td>\n",
       "      <td>2064</td>\n",
       "      <td>2376</td>\n",
       "      <td>2448</td>\n",
       "      <td>2584</td>\n",
       "      <td>2632</td>\n",
       "      <td>2752</td>\n",
       "      <td>2824</td>\n",
       "    </tr>\n",
       "    <tr>\n",
       "      <th>1</th>\n",
       "      <td>1</td>\n",
       "      <td>0</td>\n",
       "      <td>95</td>\n",
       "      <td>168</td>\n",
       "      <td>265</td>\n",
       "      <td>360</td>\n",
       "      <td>455</td>\n",
       "      <td>527</td>\n",
       "      <td>599</td>\n",
       "      <td>736</td>\n",
       "      <td>...</td>\n",
       "      <td>1423</td>\n",
       "      <td>1471</td>\n",
       "      <td>1664</td>\n",
       "      <td>1711</td>\n",
       "      <td>1880</td>\n",
       "      <td>1952</td>\n",
       "      <td>2039</td>\n",
       "      <td>2111</td>\n",
       "      <td>2231</td>\n",
       "      <td>2279</td>\n",
       "    </tr>\n",
       "    <tr>\n",
       "      <th>2</th>\n",
       "      <td>1</td>\n",
       "      <td>0</td>\n",
       "      <td>71</td>\n",
       "      <td>143</td>\n",
       "      <td>231</td>\n",
       "      <td>783</td>\n",
       "      <td>903</td>\n",
       "      <td>1087</td>\n",
       "      <td>1159</td>\n",
       "      <td>1351</td>\n",
       "      <td>...</td>\n",
       "      <td>2039</td>\n",
       "      <td>2111</td>\n",
       "      <td>2271</td>\n",
       "      <td>2343</td>\n",
       "      <td>2487</td>\n",
       "      <td>2559</td>\n",
       "      <td>2679</td>\n",
       "      <td>2751</td>\n",
       "      <td>2871</td>\n",
       "      <td>2926</td>\n",
       "    </tr>\n",
       "    <tr>\n",
       "      <th>3</th>\n",
       "      <td>1</td>\n",
       "      <td>0</td>\n",
       "      <td>95</td>\n",
       "      <td>144</td>\n",
       "      <td>263</td>\n",
       "      <td>353</td>\n",
       "      <td>431</td>\n",
       "      <td>760</td>\n",
       "      <td>832</td>\n",
       "      <td>1159</td>\n",
       "      <td>...</td>\n",
       "      <td>3151</td>\n",
       "      <td>3223</td>\n",
       "      <td>3415</td>\n",
       "      <td>3463</td>\n",
       "      <td>3631</td>\n",
       "      <td>3703</td>\n",
       "      <td>3815</td>\n",
       "      <td>3887</td>\n",
       "      <td>3983</td>\n",
       "      <td>4055</td>\n",
       "    </tr>\n",
       "    <tr>\n",
       "      <th>4</th>\n",
       "      <td>1</td>\n",
       "      <td>0</td>\n",
       "      <td>70</td>\n",
       "      <td>166</td>\n",
       "      <td>238</td>\n",
       "      <td>310</td>\n",
       "      <td>406</td>\n",
       "      <td>526</td>\n",
       "      <td>598</td>\n",
       "      <td>710</td>\n",
       "      <td>...</td>\n",
       "      <td>1310</td>\n",
       "      <td>1382</td>\n",
       "      <td>1543</td>\n",
       "      <td>1605</td>\n",
       "      <td>1734</td>\n",
       "      <td>1806</td>\n",
       "      <td>1926</td>\n",
       "      <td>1998</td>\n",
       "      <td>2086</td>\n",
       "      <td>2182</td>\n",
       "    </tr>\n",
       "  </tbody>\n",
       "</table>\n",
       "<p>5 rows × 27 columns</p>\n",
       "</div>"
      ],
      "text/plain": [
       "   user  press-0  release-0  press-1  release-1  press-2  release-2  press-3  \\\n",
       "0     1        0        120      216        312      424        496      592   \n",
       "1     1        0         95      168        265      360        455      527   \n",
       "2     1        0         71      143        231      783        903     1087   \n",
       "3     1        0         95      144        263      353        431      760   \n",
       "4     1        0         70      166        238      310        406      526   \n",
       "\n",
       "   release-3  press-4  ...  press-8  release-8  press-9  release-9  press-10  \\\n",
       "0        664      808  ...     1712       1760     1992       2064      2376   \n",
       "1        599      736  ...     1423       1471     1664       1711      1880   \n",
       "2       1159     1351  ...     2039       2111     2271       2343      2487   \n",
       "3        832     1159  ...     3151       3223     3415       3463      3631   \n",
       "4        598      710  ...     1310       1382     1543       1605      1734   \n",
       "\n",
       "   release-10  press-11  release-11  press-12  release-12  \n",
       "0        2448      2584        2632      2752        2824  \n",
       "1        1952      2039        2111      2231        2279  \n",
       "2        2559      2679        2751      2871        2926  \n",
       "3        3703      3815        3887      3983        4055  \n",
       "4        1806      1926        1998      2086        2182  \n",
       "\n",
       "[5 rows x 27 columns]"
      ]
     },
     "execution_count": 3,
     "metadata": {},
     "output_type": "execute_result"
    }
   ],
   "source": [
    "df.head()"
   ]
  },
  {
   "cell_type": "code",
   "execution_count": 4,
   "metadata": {},
   "outputs": [
    {
     "name": "stdout",
     "output_type": "stream",
     "text": [
      "<class 'pandas.core.frame.DataFrame'>\n",
      "RangeIndex: 880 entries, 0 to 879\n",
      "Data columns (total 27 columns):\n",
      " #   Column      Non-Null Count  Dtype\n",
      "---  ------      --------------  -----\n",
      " 0   user        880 non-null    int64\n",
      " 1   press-0     880 non-null    int64\n",
      " 2   release-0   880 non-null    int64\n",
      " 3   press-1     880 non-null    int64\n",
      " 4   release-1   880 non-null    int64\n",
      " 5   press-2     880 non-null    int64\n",
      " 6   release-2   880 non-null    int64\n",
      " 7   press-3     880 non-null    int64\n",
      " 8   release-3   880 non-null    int64\n",
      " 9   press-4     880 non-null    int64\n",
      " 10  release-4   880 non-null    int64\n",
      " 11  press-5     880 non-null    int64\n",
      " 12  release-5   880 non-null    int64\n",
      " 13  press-6     880 non-null    int64\n",
      " 14  release-6   880 non-null    int64\n",
      " 15  press-7     880 non-null    int64\n",
      " 16  release-7   880 non-null    int64\n",
      " 17  press-8     880 non-null    int64\n",
      " 18  release-8   880 non-null    int64\n",
      " 19  press-9     880 non-null    int64\n",
      " 20  release-9   880 non-null    int64\n",
      " 21  press-10    880 non-null    int64\n",
      " 22  release-10  880 non-null    int64\n",
      " 23  press-11    880 non-null    int64\n",
      " 24  release-11  880 non-null    int64\n",
      " 25  press-12    880 non-null    int64\n",
      " 26  release-12  880 non-null    int64\n",
      "dtypes: int64(27)\n",
      "memory usage: 185.8 KB\n"
     ]
    }
   ],
   "source": [
    "df.info()"
   ]
  },
  {
   "attachments": {},
   "cell_type": "markdown",
   "metadata": {},
   "source": [
    "### Calculate Features"
   ]
  },
  {
   "cell_type": "code",
   "execution_count": 5,
   "metadata": {},
   "outputs": [
    {
     "data": {
      "text/html": [
       "<div>\n",
       "<style scoped>\n",
       "    .dataframe tbody tr th:only-of-type {\n",
       "        vertical-align: middle;\n",
       "    }\n",
       "\n",
       "    .dataframe tbody tr th {\n",
       "        vertical-align: top;\n",
       "    }\n",
       "\n",
       "    .dataframe thead th {\n",
       "        text-align: right;\n",
       "    }\n",
       "</style>\n",
       "<table border=\"1\" class=\"dataframe\">\n",
       "  <thead>\n",
       "    <tr style=\"text-align: right;\">\n",
       "      <th></th>\n",
       "      <th>release-0</th>\n",
       "      <th>release-1</th>\n",
       "      <th>release-2</th>\n",
       "      <th>release-3</th>\n",
       "      <th>release-4</th>\n",
       "      <th>release-5</th>\n",
       "      <th>release-6</th>\n",
       "      <th>release-7</th>\n",
       "      <th>release-8</th>\n",
       "      <th>release-9</th>\n",
       "      <th>release-10</th>\n",
       "      <th>release-11</th>\n",
       "    </tr>\n",
       "  </thead>\n",
       "  <tbody>\n",
       "    <tr>\n",
       "      <th>0</th>\n",
       "      <td>120</td>\n",
       "      <td>312</td>\n",
       "      <td>496</td>\n",
       "      <td>664</td>\n",
       "      <td>856</td>\n",
       "      <td>1072</td>\n",
       "      <td>1400</td>\n",
       "      <td>1544</td>\n",
       "      <td>1760</td>\n",
       "      <td>2064</td>\n",
       "      <td>2448</td>\n",
       "      <td>2632</td>\n",
       "    </tr>\n",
       "    <tr>\n",
       "      <th>1</th>\n",
       "      <td>95</td>\n",
       "      <td>265</td>\n",
       "      <td>455</td>\n",
       "      <td>599</td>\n",
       "      <td>807</td>\n",
       "      <td>999</td>\n",
       "      <td>1095</td>\n",
       "      <td>1271</td>\n",
       "      <td>1471</td>\n",
       "      <td>1711</td>\n",
       "      <td>1952</td>\n",
       "      <td>2111</td>\n",
       "    </tr>\n",
       "    <tr>\n",
       "      <th>2</th>\n",
       "      <td>71</td>\n",
       "      <td>231</td>\n",
       "      <td>903</td>\n",
       "      <td>1159</td>\n",
       "      <td>1454</td>\n",
       "      <td>1631</td>\n",
       "      <td>1799</td>\n",
       "      <td>1902</td>\n",
       "      <td>2111</td>\n",
       "      <td>2343</td>\n",
       "      <td>2559</td>\n",
       "      <td>2751</td>\n",
       "    </tr>\n",
       "    <tr>\n",
       "      <th>3</th>\n",
       "      <td>95</td>\n",
       "      <td>263</td>\n",
       "      <td>431</td>\n",
       "      <td>832</td>\n",
       "      <td>1207</td>\n",
       "      <td>1377</td>\n",
       "      <td>1591</td>\n",
       "      <td>3015</td>\n",
       "      <td>3223</td>\n",
       "      <td>3463</td>\n",
       "      <td>3703</td>\n",
       "      <td>3887</td>\n",
       "    </tr>\n",
       "    <tr>\n",
       "      <th>4</th>\n",
       "      <td>70</td>\n",
       "      <td>238</td>\n",
       "      <td>406</td>\n",
       "      <td>598</td>\n",
       "      <td>758</td>\n",
       "      <td>950</td>\n",
       "      <td>1022</td>\n",
       "      <td>1166</td>\n",
       "      <td>1382</td>\n",
       "      <td>1605</td>\n",
       "      <td>1806</td>\n",
       "      <td>1998</td>\n",
       "    </tr>\n",
       "    <tr>\n",
       "      <th>...</th>\n",
       "      <td>...</td>\n",
       "      <td>...</td>\n",
       "      <td>...</td>\n",
       "      <td>...</td>\n",
       "      <td>...</td>\n",
       "      <td>...</td>\n",
       "      <td>...</td>\n",
       "      <td>...</td>\n",
       "      <td>...</td>\n",
       "      <td>...</td>\n",
       "      <td>...</td>\n",
       "      <td>...</td>\n",
       "    </tr>\n",
       "    <tr>\n",
       "      <th>875</th>\n",
       "      <td>80</td>\n",
       "      <td>306</td>\n",
       "      <td>465</td>\n",
       "      <td>672</td>\n",
       "      <td>784</td>\n",
       "      <td>1040</td>\n",
       "      <td>1123</td>\n",
       "      <td>1576</td>\n",
       "      <td>1735</td>\n",
       "      <td>1884</td>\n",
       "      <td>2040</td>\n",
       "      <td>2186</td>\n",
       "    </tr>\n",
       "    <tr>\n",
       "      <th>876</th>\n",
       "      <td>81</td>\n",
       "      <td>289</td>\n",
       "      <td>473</td>\n",
       "      <td>1057</td>\n",
       "      <td>1189</td>\n",
       "      <td>1419</td>\n",
       "      <td>1465</td>\n",
       "      <td>1698</td>\n",
       "      <td>1866</td>\n",
       "      <td>2019</td>\n",
       "      <td>2265</td>\n",
       "      <td>2457</td>\n",
       "    </tr>\n",
       "    <tr>\n",
       "      <th>877</th>\n",
       "      <td>79</td>\n",
       "      <td>300</td>\n",
       "      <td>519</td>\n",
       "      <td>807</td>\n",
       "      <td>894</td>\n",
       "      <td>1204</td>\n",
       "      <td>1279</td>\n",
       "      <td>1512</td>\n",
       "      <td>1724</td>\n",
       "      <td>1866</td>\n",
       "      <td>2046</td>\n",
       "      <td>2192</td>\n",
       "    </tr>\n",
       "    <tr>\n",
       "      <th>878</th>\n",
       "      <td>84</td>\n",
       "      <td>290</td>\n",
       "      <td>476</td>\n",
       "      <td>930</td>\n",
       "      <td>978</td>\n",
       "      <td>1240</td>\n",
       "      <td>1310</td>\n",
       "      <td>1484</td>\n",
       "      <td>1658</td>\n",
       "      <td>1848</td>\n",
       "      <td>1940</td>\n",
       "      <td>2082</td>\n",
       "    </tr>\n",
       "    <tr>\n",
       "      <th>879</th>\n",
       "      <td>64</td>\n",
       "      <td>366</td>\n",
       "      <td>510</td>\n",
       "      <td>798</td>\n",
       "      <td>928</td>\n",
       "      <td>1200</td>\n",
       "      <td>1299</td>\n",
       "      <td>1445</td>\n",
       "      <td>1624</td>\n",
       "      <td>1798</td>\n",
       "      <td>1966</td>\n",
       "      <td>2096</td>\n",
       "    </tr>\n",
       "  </tbody>\n",
       "</table>\n",
       "<p>880 rows × 12 columns</p>\n",
       "</div>"
      ],
      "text/plain": [
       "     release-0  release-1  release-2  release-3  release-4  release-5  \\\n",
       "0          120        312        496        664        856       1072   \n",
       "1           95        265        455        599        807        999   \n",
       "2           71        231        903       1159       1454       1631   \n",
       "3           95        263        431        832       1207       1377   \n",
       "4           70        238        406        598        758        950   \n",
       "..         ...        ...        ...        ...        ...        ...   \n",
       "875         80        306        465        672        784       1040   \n",
       "876         81        289        473       1057       1189       1419   \n",
       "877         79        300        519        807        894       1204   \n",
       "878         84        290        476        930        978       1240   \n",
       "879         64        366        510        798        928       1200   \n",
       "\n",
       "     release-6  release-7  release-8  release-9  release-10  release-11  \n",
       "0         1400       1544       1760       2064        2448        2632  \n",
       "1         1095       1271       1471       1711        1952        2111  \n",
       "2         1799       1902       2111       2343        2559        2751  \n",
       "3         1591       3015       3223       3463        3703        3887  \n",
       "4         1022       1166       1382       1605        1806        1998  \n",
       "..         ...        ...        ...        ...         ...         ...  \n",
       "875       1123       1576       1735       1884        2040        2186  \n",
       "876       1465       1698       1866       2019        2265        2457  \n",
       "877       1279       1512       1724       1866        2046        2192  \n",
       "878       1310       1484       1658       1848        1940        2082  \n",
       "879       1299       1445       1624       1798        1966        2096  \n",
       "\n",
       "[880 rows x 12 columns]"
      ]
     },
     "execution_count": 5,
     "metadata": {},
     "output_type": "execute_result"
    }
   ],
   "source": [
    "df.iloc[:, 2:-2:2]"
   ]
  },
  {
   "cell_type": "code",
   "execution_count": 6,
   "metadata": {},
   "outputs": [],
   "source": [
    "ht = df.iloc[:, 2::2].values - df.iloc[:, 1::2].values\n",
    "rrt = df.iloc[:, 4::2].values - df.iloc[:, 2:-2:2].values\n",
    "ppt = df.iloc[:, 3::2].values - df.iloc[:, 1:-2:2].values\n",
    "rpt = df.iloc[:, 3::2].values - df.iloc[:, 2:-2:2].values"
   ]
  },
  {
   "cell_type": "code",
   "execution_count": 7,
   "metadata": {},
   "outputs": [],
   "source": [
    "ht_mean = np.mean(ht, axis=1)\n",
    "ht_std = np.std(ht, axis=1)\n",
    "\n",
    "rrt_mean = np.mean(rrt, axis=1)\n",
    "rrt_std = np.std(rrt, axis=1)\n",
    "\n",
    "ppt_mean = np.mean(ppt, axis=1)\n",
    "ppt_std = np.std(ppt, axis=1)\n",
    "\n",
    "rpt_mean = np.mean(rpt, axis=1)\n",
    "rpt_std = np.std(rpt, axis=1)"
   ]
  },
  {
   "cell_type": "code",
   "execution_count": 8,
   "metadata": {},
   "outputs": [],
   "source": [
    "data = pd.DataFrame({'ht_mean': ht_mean, 'ht_std': ht_std, 'rrt_mean': rrt_mean, 'rrt_std': rrt_std, 'ppt_mean': ppt_mean, 'ppt_std': ppt_std, 'rpt_mean': rpt_mean, 'rpt_std': rpt_std})"
   ]
  },
  {
   "cell_type": "code",
   "execution_count": 9,
   "metadata": {},
   "outputs": [
    {
     "data": {
      "text/html": [
       "<div>\n",
       "<style scoped>\n",
       "    .dataframe tbody tr th:only-of-type {\n",
       "        vertical-align: middle;\n",
       "    }\n",
       "\n",
       "    .dataframe tbody tr th {\n",
       "        vertical-align: top;\n",
       "    }\n",
       "\n",
       "    .dataframe thead th {\n",
       "        text-align: right;\n",
       "    }\n",
       "</style>\n",
       "<table border=\"1\" class=\"dataframe\">\n",
       "  <thead>\n",
       "    <tr style=\"text-align: right;\">\n",
       "      <th></th>\n",
       "      <th>ht_mean</th>\n",
       "      <th>ht_std</th>\n",
       "      <th>rrt_mean</th>\n",
       "      <th>rrt_std</th>\n",
       "      <th>ppt_mean</th>\n",
       "      <th>ppt_std</th>\n",
       "      <th>rpt_mean</th>\n",
       "      <th>rpt_std</th>\n",
       "    </tr>\n",
       "  </thead>\n",
       "  <tbody>\n",
       "    <tr>\n",
       "      <th>0</th>\n",
       "      <td>72.000000</td>\n",
       "      <td>21.049392</td>\n",
       "      <td>225.333333</td>\n",
       "      <td>69.958718</td>\n",
       "      <td>229.333333</td>\n",
       "      <td>60.428102</td>\n",
       "      <td>157.333333</td>\n",
       "      <td>65.019655</td>\n",
       "    </tr>\n",
       "    <tr>\n",
       "      <th>1</th>\n",
       "      <td>70.384615</td>\n",
       "      <td>16.836492</td>\n",
       "      <td>182.000000</td>\n",
       "      <td>38.464269</td>\n",
       "      <td>185.916667</td>\n",
       "      <td>34.862727</td>\n",
       "      <td>113.666667</td>\n",
       "      <td>44.548351</td>\n",
       "    </tr>\n",
       "    <tr>\n",
       "      <th>2</th>\n",
       "      <td>80.307692</td>\n",
       "      <td>16.498879</td>\n",
       "      <td>237.916667</td>\n",
       "      <td>139.135700</td>\n",
       "      <td>239.250000</td>\n",
       "      <td>130.555943</td>\n",
       "      <td>156.833333</td>\n",
       "      <td>127.846805</td>\n",
       "    </tr>\n",
       "    <tr>\n",
       "      <th>3</th>\n",
       "      <td>72.000000</td>\n",
       "      <td>20.373437</td>\n",
       "      <td>330.000000</td>\n",
       "      <td>338.389568</td>\n",
       "      <td>331.916667</td>\n",
       "      <td>352.649604</td>\n",
       "      <td>259.916667</td>\n",
       "      <td>347.130249</td>\n",
       "    </tr>\n",
       "    <tr>\n",
       "      <th>4</th>\n",
       "      <td>74.769231</td>\n",
       "      <td>13.325244</td>\n",
       "      <td>176.000000</td>\n",
       "      <td>38.177218</td>\n",
       "      <td>173.833333</td>\n",
       "      <td>45.487788</td>\n",
       "      <td>100.833333</td>\n",
       "      <td>45.586609</td>\n",
       "    </tr>\n",
       "  </tbody>\n",
       "</table>\n",
       "</div>"
      ],
      "text/plain": [
       "     ht_mean     ht_std    rrt_mean     rrt_std    ppt_mean     ppt_std  \\\n",
       "0  72.000000  21.049392  225.333333   69.958718  229.333333   60.428102   \n",
       "1  70.384615  16.836492  182.000000   38.464269  185.916667   34.862727   \n",
       "2  80.307692  16.498879  237.916667  139.135700  239.250000  130.555943   \n",
       "3  72.000000  20.373437  330.000000  338.389568  331.916667  352.649604   \n",
       "4  74.769231  13.325244  176.000000   38.177218  173.833333   45.487788   \n",
       "\n",
       "     rpt_mean     rpt_std  \n",
       "0  157.333333   65.019655  \n",
       "1  113.666667   44.548351  \n",
       "2  156.833333  127.846805  \n",
       "3  259.916667  347.130249  \n",
       "4  100.833333   45.586609  "
      ]
     },
     "execution_count": 9,
     "metadata": {},
     "output_type": "execute_result"
    }
   ],
   "source": [
    "data.head()"
   ]
  },
  {
   "cell_type": "code",
   "execution_count": 10,
   "metadata": {},
   "outputs": [],
   "source": [
    "data['UserID'] = df['user']"
   ]
  },
  {
   "attachments": {},
   "cell_type": "markdown",
   "metadata": {},
   "source": [
    "### Split data in training and test"
   ]
  },
  {
   "cell_type": "code",
   "execution_count": 12,
   "metadata": {},
   "outputs": [],
   "source": [
    "X = data.drop('UserID', axis=1)\n",
    "y = data['UserID']"
   ]
  },
  {
   "cell_type": "code",
   "execution_count": 13,
   "metadata": {},
   "outputs": [],
   "source": [
    "# Mapping class labels to integers\n",
    "user_to_int = {user: i for i, user in enumerate(np.unique(y))}\n",
    "y = y.map(user_to_int)\n",
    "\n",
    "# Converting class labels to integers for XGBoost\n",
    "y = y.astype('int')"
   ]
  },
  {
   "cell_type": "code",
   "execution_count": 14,
   "metadata": {},
   "outputs": [],
   "source": [
    "X_train, X_test, y_train, y_test = train_test_split(X, y, test_size=0.2, random_state=42)"
   ]
  },
  {
   "attachments": {},
   "cell_type": "markdown",
   "metadata": {},
   "source": [
    "### Training and Evaluate Models"
   ]
  },
  {
   "cell_type": "code",
   "execution_count": 15,
   "metadata": {},
   "outputs": [
    {
     "name": "stdout",
     "output_type": "stream",
     "text": [
      "SVC Accuracy:  0.011363636363636364\n"
     ]
    }
   ],
   "source": [
    "svc = SVC()\n",
    "svc.fit(X_train, y_train)\n",
    "y_pred1 = svc.predict(X_test)\n",
    "print('SVC Accuracy: ', accuracy_score(y_test, y_pred1))"
   ]
  },
  {
   "cell_type": "code",
   "execution_count": 16,
   "metadata": {},
   "outputs": [
    {
     "name": "stdout",
     "output_type": "stream",
     "text": [
      "Random Forest Accuracy:  0.1875\n"
     ]
    }
   ],
   "source": [
    "rfc = RandomForestClassifier()\n",
    "rfc.fit(X_train, y_train)\n",
    "y_pred2 = rfc.predict(X_test)\n",
    "print('Random Forest Accuracy: ', accuracy_score(y_test, y_pred2))"
   ]
  },
  {
   "cell_type": "code",
   "execution_count": 17,
   "metadata": {},
   "outputs": [
    {
     "name": "stdout",
     "output_type": "stream",
     "text": [
      "XGBoost Accuracy:  0.16477272727272727\n"
     ]
    }
   ],
   "source": [
    "xgb = XGBClassifier()\n",
    "xgb.fit(X_train, y_train)\n",
    "y_pred3 = xgb.predict(X_test)\n",
    "print('XGBoost Accuracy: ', accuracy_score(y_test, y_pred3))"
   ]
  },
  {
   "attachments": {},
   "cell_type": "markdown",
   "metadata": {},
   "source": [
    "### Storing the models"
   ]
  },
  {
   "cell_type": "code",
   "execution_count": 18,
   "metadata": {},
   "outputs": [],
   "source": [
    "import joblib"
   ]
  },
  {
   "cell_type": "code",
   "execution_count": 21,
   "metadata": {},
   "outputs": [
    {
     "data": {
      "text/plain": [
       "['models/xgb.joblib']"
      ]
     },
     "execution_count": 21,
     "metadata": {},
     "output_type": "execute_result"
    }
   ],
   "source": [
    "joblib.dump(svc, 'models/svc.joblib')\n",
    "joblib.dump(rfc, 'models/rfc.joblib')\n",
    "joblib.dump(xgb, 'models/xgb.joblib')"
   ]
  },
  {
   "attachments": {},
   "cell_type": "markdown",
   "metadata": {},
   "source": [
    "### Testing a loaded Model"
   ]
  },
  {
   "cell_type": "code",
   "execution_count": 22,
   "metadata": {},
   "outputs": [],
   "source": [
    "loaded_rfc = joblib.load('models/rfc.joblib')"
   ]
  },
  {
   "cell_type": "code",
   "execution_count": 23,
   "metadata": {},
   "outputs": [
    {
     "name": "stdout",
     "output_type": "stream",
     "text": [
      "Loaded RFC Accuracy:  0.1875\n"
     ]
    }
   ],
   "source": [
    "y_pred4 = loaded_rfc.predict(X_test)\n",
    "print('Loaded RFC Accuracy: ', accuracy_score(y_test, y_pred4))"
   ]
  },
  {
   "cell_type": "code",
   "execution_count": null,
   "metadata": {},
   "outputs": [],
   "source": []
  }
 ],
 "metadata": {
  "kernelspec": {
   "display_name": "pier",
   "language": "python",
   "name": "python3"
  },
  "language_info": {
   "codemirror_mode": {
    "name": "ipython",
    "version": 3
   },
   "file_extension": ".py",
   "mimetype": "text/x-python",
   "name": "python",
   "nbconvert_exporter": "python",
   "pygments_lexer": "ipython3",
   "version": "3.9.16"
  },
  "orig_nbformat": 4,
  "vscode": {
   "interpreter": {
    "hash": "9566151602eb31ae0fab46b5322d7c659e50e06e9e4bb8bf8e8866292ce90189"
   }
  }
 },
 "nbformat": 4,
 "nbformat_minor": 2
}
